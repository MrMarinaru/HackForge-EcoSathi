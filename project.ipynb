{
 "cells": [
  {
   "cell_type": "code",
   "execution_count": 8,
   "id": "8a5cb7e1",
   "metadata": {},
   "outputs": [
    {
     "name": "stdout",
     "output_type": "stream",
     "text": [
      "Flattening + renaming done! Check 'dataset_flattened/'\n"
     ]
    }
   ],
   "source": [
    "import os\n",
    "import shutil\n",
    "\n",
    "src_root = r\"D:\\Code and stuff\\heck-a-ton\\archive\\images\\images\"                # original dataset root\n",
    "dst_root = r\"D:\\Code and stuff\\heck-a-ton\\archive\\dataset_flattened\"     # where flattened dataset will go\n",
    "os.makedirs(dst_root, exist_ok=True)\n",
    "\n",
    "for class_name in os.listdir(src_root):\n",
    "    class_path = os.path.join(src_root, class_name)\n",
    "    if not os.path.isdir(class_path):\n",
    "        continue\n",
    "    \n",
    "    # Create destination folder for this class\n",
    "    dst_class_path = os.path.join(dst_root, class_name)\n",
    "    os.makedirs(dst_class_path, exist_ok=True)\n",
    "    \n",
    "    # Go through \"default\" and \"real_world\"\n",
    "    for subfolder in [\"default\", \"real_world\"]:\n",
    "        sub_path = os.path.join(class_path, subfolder)\n",
    "        if not os.path.isdir(sub_path):\n",
    "            continue\n",
    "        \n",
    "        for i, fname in enumerate(os.listdir(sub_path)):\n",
    "            src_file = os.path.join(sub_path, fname)\n",
    "            \n",
    "            # rename with prefix so no conflicts\n",
    "            new_name = f\"{subfolder}_{i}_{fname}\"\n",
    "            dst_file = os.path.join(dst_class_path, new_name)\n",
    "            \n",
    "            shutil.copy(src_file, dst_file)\n",
    "\n",
    "print(\"Flattening + renaming done! Check 'dataset_flattened/'\")\n"
   ]
  },
  {
   "cell_type": "code",
   "execution_count": 6,
   "id": "b5c5cd17",
   "metadata": {},
   "outputs": [],
   "source": [
    "import os\n",
    "\n",
    "src_root = r\"D:\\Code and stuff\\heck-a-ton\\archive\\images\"   # adjust if needed\n",
    "for class_name in os.listdir(src_root):\n",
    "    class_path = os.path.join(src_root, class_name)\n",
    "    if not os.path.isdir(class_path):\n",
    "        continue\n",
    "    \n",
    "    for subfolder in [\"default\", \"real_world\"]:\n",
    "        sub_path = os.path.join(class_path, subfolder)\n",
    "        if os.path.isdir(sub_path):\n",
    "            files = [f for f in os.listdir(sub_path) if f.lower().endswith(('.png','.jpg','.jpeg'))]\n",
    "            print(class_name, subfolder, \"->\", len(files), \"images\")\n"
   ]
  },
  {
   "cell_type": "code",
   "execution_count": 7,
   "id": "1d0e62ab",
   "metadata": {},
   "outputs": [
    {
     "name": "stdout",
     "output_type": "stream",
     "text": [
      "Listing contents of 'images/':\n",
      "['images']\n"
     ]
    }
   ],
   "source": [
    "import os\n",
    "\n",
    "print(\"Listing contents of 'images/':\")\n",
    "print(os.listdir(r\"D:\\Code and stuff\\heck-a-ton\\archive\\images\"))\n"
   ]
  },
  {
   "cell_type": "code",
   "execution_count": 9,
   "id": "622a0872",
   "metadata": {},
   "outputs": [
    {
     "name": "stdout",
     "output_type": "stream",
     "text": [
      "Train/Val/Test split done! Check 'dataset_split/'\n"
     ]
    }
   ],
   "source": [
    "import random\n",
    "\n",
    "src_root = r\"D:\\Code and stuff\\heck-a-ton\\archive\\dataset_flattened\"\n",
    "dst_root = r\"D:\\Code and stuff\\heck-a-ton\\archive\\dataset_split\"\n",
    "\n",
    "for split in [\"train\", \"val\", \"test\"]:\n",
    "    os.makedirs(os.path.join(dst_root, split), exist_ok=True)\n",
    "\n",
    "split_ratio = {\"train\": 0.7, \"val\": 0.15, \"test\": 0.15}\n",
    "\n",
    "for class_name in os.listdir(src_root):\n",
    "    class_path = os.path.join(src_root, class_name)\n",
    "    if not os.path.isdir(class_path):\n",
    "        continue\n",
    "    \n",
    "    files = os.listdir(class_path)\n",
    "    random.shuffle(files)\n",
    "    \n",
    "    n_total = len(files)\n",
    "    n_train = int(n_total * split_ratio[\"train\"])\n",
    "    n_val   = int(n_total * split_ratio[\"val\"])\n",
    "    \n",
    "    split_files = {\n",
    "        \"train\": files[:n_train],\n",
    "        \"val\": files[n_train:n_train+n_val],\n",
    "        \"test\": files[n_train+n_val:]\n",
    "    }\n",
    "    \n",
    "    for split, filenames in split_files.items():\n",
    "        dst_class_path = os.path.join(dst_root, split, class_name)\n",
    "        os.makedirs(dst_class_path, exist_ok=True)\n",
    "        \n",
    "        for fname in filenames:\n",
    "            src_file = os.path.join(class_path, fname)\n",
    "            dst_file = os.path.join(dst_class_path, fname)\n",
    "            shutil.copy(src_file, dst_file)\n",
    "\n",
    "print(\"Train/Val/Test split done! Check 'dataset_split/'\")\n"
   ]
  },
  {
   "cell_type": "code",
   "execution_count": 5,
   "id": "3fcc011c",
   "metadata": {},
   "outputs": [],
   "source": [
    "import os\n",
    "import torch\n",
    "import torch.nn as nn\n",
    "import torch.optim as optim\n",
    "from torchvision import datasets, transforms, models\n",
    "from torch.utils.data import DataLoader, random_split\n",
    "import matplotlib.pyplot as plt\n",
    "\n",
    "# Paths\n",
    "data_dir = r\"D:\\Code and stuff\\heck-a-ton\\archive\\dataset_flattened\"   # <-- your renamed + flattened dataset\n"
   ]
  },
  {
   "cell_type": "code",
   "execution_count": 6,
   "id": "0121a87f",
   "metadata": {},
   "outputs": [],
   "source": [
    "# Standard transforms for training vs validation\n",
    "train_transforms = transforms.Compose([\n",
    "    transforms.Resize((224, 224)),\n",
    "    transforms.RandomHorizontalFlip(),\n",
    "    transforms.RandomRotation(10),\n",
    "    transforms.ToTensor(),\n",
    "    transforms.Normalize([0.485, 0.456, 0.406],\n",
    "                         [0.229, 0.224, 0.225])\n",
    "])\n",
    "\n",
    "val_transforms = transforms.Compose([\n",
    "    transforms.Resize((224, 224)),\n",
    "    transforms.ToTensor(),\n",
    "    transforms.Normalize([0.485, 0.456, 0.406],\n",
    "                         [0.229, 0.224, 0.225])\n",
    "])\n"
   ]
  },
  {
   "cell_type": "code",
   "execution_count": 10,
   "id": "f53dc485",
   "metadata": {},
   "outputs": [
    {
     "name": "stdout",
     "output_type": "stream",
     "text": [
      "Train: 10500 | Val: 3000 | Test: 1500\n"
     ]
    }
   ],
   "source": [
    "# Full dataset\n",
    "full_dataset = datasets.ImageFolder(root=data_dir, transform=train_transforms)\n",
    "\n",
    "# Train/val/test split (70/20/10)\n",
    "train_size = int(0.7 * len(full_dataset))\n",
    "val_size   = int(0.2 * len(full_dataset))\n",
    "test_size  = len(full_dataset) - train_size - val_size\n",
    "\n",
    "train_ds, val_ds, test_ds = random_split(full_dataset, [train_size, val_size, test_size])\n",
    "\n",
    "# Apply val transforms to val & test\n",
    "val_ds.dataset.transform = val_transforms\n",
    "test_ds.dataset.transform = val_transforms\n",
    "\n",
    "# DataLoaders\n",
    "train_loader = DataLoader(train_ds, batch_size=32, shuffle=True, num_workers=2)\n",
    "val_loader   = DataLoader(val_ds, batch_size=32, shuffle=False, num_workers=2)\n",
    "test_loader  = DataLoader(test_ds, batch_size=32, shuffle=False, num_workers=2)\n",
    "\n",
    "print(f\"Train: {len(train_ds)} | Val: {len(val_ds)} | Test: {len(test_ds)}\")\n"
   ]
  },
  {
   "cell_type": "code",
   "execution_count": 11,
   "id": "6a3a844e",
   "metadata": {},
   "outputs": [
    {
     "name": "stdout",
     "output_type": "stream",
     "text": [
      "Using: cuda\n"
     ]
    },
    {
     "name": "stderr",
     "output_type": "stream",
     "text": [
      "d:\\Code and stuff\\Neural Networks\\PyTorch_env\\Lib\\site-packages\\torchvision\\models\\_utils.py:208: UserWarning: The parameter 'pretrained' is deprecated since 0.13 and may be removed in the future, please use 'weights' instead.\n",
      "  warnings.warn(\n",
      "d:\\Code and stuff\\Neural Networks\\PyTorch_env\\Lib\\site-packages\\torchvision\\models\\_utils.py:223: UserWarning: Arguments other than a weight enum or `None` for 'weights' are deprecated since 0.13 and may be removed in the future. The current behavior is equivalent to passing `weights=ResNet50_Weights.IMAGENET1K_V1`. You can also use `weights=ResNet50_Weights.DEFAULT` to get the most up-to-date weights.\n",
      "  warnings.warn(msg)\n",
      "Downloading: \"https://download.pytorch.org/models/resnet50-0676ba61.pth\" to C:\\Users\\sharm/.cache\\torch\\hub\\checkpoints\\resnet50-0676ba61.pth\n",
      "100.0%\n"
     ]
    }
   ],
   "source": [
    "device = torch.device(\"cuda\" if torch.cuda.is_available() else \"cpu\")\n",
    "print(\"Using:\", device)\n",
    "\n",
    "num_classes = len(full_dataset.classes)\n",
    "\n",
    "# Load pretrained model\n",
    "model = models.resnet50(pretrained=True)\n",
    "\n",
    "# Freeze backbone\n",
    "for param in model.parameters():\n",
    "    param.requires_grad = False\n",
    "\n",
    "# Replace classifier head\n",
    "model.fc = nn.Sequential(\n",
    "    nn.Linear(model.fc.in_features, 512),\n",
    "    nn.ReLU(),\n",
    "    nn.Dropout(0.3),\n",
    "    nn.Linear(512, num_classes)\n",
    ")\n",
    "\n",
    "model = model.to(device)\n"
   ]
  },
  {
   "cell_type": "code",
   "execution_count": 12,
   "id": "64d6396c",
   "metadata": {},
   "outputs": [],
   "source": [
    "criterion = nn.CrossEntropyLoss()\n",
    "optimizer = optim.Adam(model.fc.parameters(), lr=0.001)\n"
   ]
  },
  {
   "cell_type": "code",
   "execution_count": 13,
   "id": "0c30394c",
   "metadata": {},
   "outputs": [
    {
     "name": "stdout",
     "output_type": "stream",
     "text": [
      "Epoch 1/5 - Train Acc: 0.561 - Val Acc: 0.711\n",
      "Epoch 2/5 - Train Acc: 0.703 - Val Acc: 0.736\n",
      "Epoch 3/5 - Train Acc: 0.733 - Val Acc: 0.758\n",
      "Epoch 4/5 - Train Acc: 0.753 - Val Acc: 0.759\n",
      "Epoch 5/5 - Train Acc: 0.768 - Val Acc: 0.775\n"
     ]
    }
   ],
   "source": [
    "def train_model(model, train_loader, val_loader, criterion, optimizer, epochs=5):\n",
    "    train_acc, val_acc = [], []\n",
    "\n",
    "    for epoch in range(epochs):\n",
    "        model.train()\n",
    "        correct, total, running_loss = 0, 0, 0.0\n",
    "\n",
    "        for inputs, labels in train_loader:\n",
    "            inputs, labels = inputs.to(device), labels.to(device)\n",
    "\n",
    "            optimizer.zero_grad()\n",
    "            outputs = model(inputs)\n",
    "            loss = criterion(outputs, labels)\n",
    "            loss.backward()\n",
    "            optimizer.step()\n",
    "\n",
    "            running_loss += loss.item()\n",
    "            _, preds = torch.max(outputs, 1)\n",
    "            correct += (preds == labels).sum().item()\n",
    "            total += labels.size(0)\n",
    "\n",
    "        epoch_train_acc = correct / total\n",
    "        train_acc.append(epoch_train_acc)\n",
    "\n",
    "        # Validation\n",
    "        model.eval()\n",
    "        correct, total = 0, 0\n",
    "        with torch.no_grad():\n",
    "            for inputs, labels in val_loader:\n",
    "                inputs, labels = inputs.to(device), labels.to(device)\n",
    "                outputs = model(inputs)\n",
    "                _, preds = torch.max(outputs, 1)\n",
    "                correct += (preds == labels).sum().item()\n",
    "                total += labels.size(0)\n",
    "        epoch_val_acc = correct / total\n",
    "        val_acc.append(epoch_val_acc)\n",
    "\n",
    "        print(f\"Epoch {epoch+1}/{epochs} - Train Acc: {epoch_train_acc:.3f} - Val Acc: {epoch_val_acc:.3f}\")\n",
    "\n",
    "    return train_acc, val_acc\n",
    "\n",
    "train_acc, val_acc = train_model(model, train_loader, val_loader, criterion, optimizer, epochs=5)\n"
   ]
  },
  {
   "cell_type": "code",
   "execution_count": 14,
   "id": "3f7587f0",
   "metadata": {},
   "outputs": [
    {
     "name": "stdout",
     "output_type": "stream",
     "text": [
      "Model saved!\n"
     ]
    }
   ],
   "source": [
    "torch.save(model.state_dict(), \"waste_classifier.pth\")\n",
    "print(\"Model saved!\")\n"
   ]
  },
  {
   "cell_type": "code",
   "execution_count": 19,
   "id": "58bad46a",
   "metadata": {},
   "outputs": [
    {
     "name": "stdout",
     "output_type": "stream",
     "text": [
      "plastic_water_bottles\n"
     ]
    }
   ],
   "source": [
    "from PIL import Image\n",
    "\n",
    "def predict_image(image_path, model, class_names):\n",
    "    model.eval()\n",
    "    img = Image.open(image_path).convert(\"RGB\")\n",
    "    transform = val_transforms\n",
    "    img_t = transform(img).unsqueeze(0).to(device)\n",
    "\n",
    "    with torch.no_grad():\n",
    "        outputs = model(img_t)\n",
    "        _, preds = torch.max(outputs, 1)\n",
    "    \n",
    "    return class_names[preds[0].item()]\n",
    "\n",
    "# Example\n",
    "print(predict_image(r\"D:\\Code and stuff\\heck-a-ton\\archive\\dataset_flattened\\plastic_water_bottles\\default_0_image_1.png\", model, full_dataset.classes))\n"
   ]
  },
  {
   "cell_type": "code",
   "execution_count": 29,
   "id": "a175ca5c",
   "metadata": {},
   "outputs": [
    {
     "name": "stdout",
     "output_type": "stream",
     "text": [
      "Fine-grained: newspaper\n",
      "Broad: Paper\n"
     ]
    }
   ],
   "source": [
    "broad_map = {\n",
    "    # Plastic\n",
    "    \"plastic_water_bottles\": \"Plastic\",\n",
    "    \"plastic_soda_bottles\": \"Plastic\",\n",
    "    \"plastic_detergent_bottles\": \"Plastic\",\n",
    "    \"plastic_shopping_bags\": \"Plastic\",\n",
    "    \"plastic_trash_bags\": \"Plastic\",\n",
    "    \"plastic_food_containers\": \"Plastic\",\n",
    "    \"disposable_plastic_cutlery\": \"Plastic\",\n",
    "    \"plastic_straws\": \"Plastic\",\n",
    "    \"plastic_cup_lids\": \"Plastic\",\n",
    "    \"paper_cups\": 'Paper',\n",
    "\n",
    "    # Paper & Cardboard\n",
    "    \"newspaper\": \"Paper\",\n",
    "    \"office_paper\": \"Paper\",\n",
    "    \"magazines\": \"Paper\",\n",
    "    \"cardboard_boxes\": \"Cardboard\",\n",
    "    \"cardboard_packaging\": \"Cardboard\",\n",
    "\n",
    "    # Glass\n",
    "    \"glass_beverage_bottles\": \"Glass\",\n",
    "    \"glass_food_jars\": \"Glass\",\n",
    "    \"glass_cosmetic_containers\": \"Glass\",\n",
    "\n",
    "    # Metal\n",
    "    \"aluminum_soda_cans\": \"Metal\",\n",
    "    \"aluminum_food_cans\": \"Metal\",\n",
    "    \"steel_food_cans\": \"Metal\",\n",
    "    \"aerosol_cans\": \"Metal\",\n",
    "\n",
    "    # Organic\n",
    "    \"food_waste\": \"Organic\",\n",
    "    \"eggshells\": \"Organic\",\n",
    "    \"coffee_grounds\": \"Organic\",\n",
    "    \"tea_bags\": \"Organic\",\n",
    "\n",
    "    # Textiles\n",
    "    \"clothing\": \"Textiles\",\n",
    "    \"shoes\": \"Textiles\"\n",
    "}\n",
    "\n",
    "# Usage\n",
    "pred = predict_image(r\"D:\\Code and stuff\\heck-a-ton\\archive\\dataset_flattened\\newspaper\\default_6_Image_104.png\", model, full_dataset.classes)\n",
    "print(\"Fine-grained:\", pred)\n",
    "print(\"Broad:\", broad_map.get(pred, \"Unknown\"))\n"
   ]
  },
  {
   "cell_type": "code",
   "execution_count": null,
   "id": "40b72ae1",
   "metadata": {},
   "outputs": [],
   "source": []
  }
 ],
 "metadata": {
  "kernelspec": {
   "display_name": "PyTorch_env",
   "language": "python",
   "name": "python3"
  },
  "language_info": {
   "codemirror_mode": {
    "name": "ipython",
    "version": 3
   },
   "file_extension": ".py",
   "mimetype": "text/x-python",
   "name": "python",
   "nbconvert_exporter": "python",
   "pygments_lexer": "ipython3",
   "version": "3.13.3"
  }
 },
 "nbformat": 4,
 "nbformat_minor": 5
}
